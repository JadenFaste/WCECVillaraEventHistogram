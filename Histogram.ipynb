{
 "cells": [
  {
   "cell_type": "code",
   "execution_count": 5,
   "metadata": {},
   "outputs": [
    {
     "name": "stderr",
     "output_type": "stream",
     "text": [
      "C:\\Users\\bober\\AppData\\Local\\Temp\\ipykernel_6060\\1360123164.py:6: DtypeWarning: Columns (26,27,28,29) have mixed types. Specify dtype option on import or set low_memory=False.\n",
      "  data = pd.read_csv(filepath)\n"
     ]
    }
   ],
   "source": [
    "import pandas as pd\n",
    "import numpy as np\n",
    "import matplotlib.pyplot as plt\n",
    "\n",
    "filepath = 'https://raw.githubusercontent.com/JadenFaste/WCECVillaraEventHistogram/main/Test%20data.csv'\n",
    "data = pd.read_csv(filepath)\n",
    "\n",
    "# Create a new DataFrame as a copy of the original\n",
    "new_data = data.copy()\n",
    "\n",
    "column_name = \"EP_Total_HVAC_Power_W\"\n",
    "if column_name in new_data.columns:\n",
    "    column_exists = True\n",
    "    # Apply the condition: If Controller_Water_Heating_Mode is 0, set EP_Total_HVAC_Power_W to 0\n",
    "    new_data.loc[new_data['Controller_Water_Heating_Mode'] == 0, column_name] = 0\n",
    "else:\n",
    "    column_exists = False\n",
    "    columns = new_data.columns.tolist()\n",
    "\n",
    "column_exists, columns if not column_exists else \"Column found and values updated\"\n",
    "\n",
    "# Save the modified DataFrame to a new CSV file\n",
    "new_data.to_csv(\"new_data.csv\", index=False)"
   ]
  },
  {
   "cell_type": "code",
   "execution_count": 12,
   "metadata": {},
   "outputs": [
    {
     "name": "stderr",
     "output_type": "stream",
     "text": [
      "C:\\Users\\bober\\AppData\\Local\\Temp\\ipykernel_6060\\3478668317.py:6: DtypeWarning: Columns (26,27,28,29) have mixed types. Specify dtype option on import or set low_memory=False.\n",
      "  data = pd.read_csv(filepath)\n"
     ]
    },
    {
     "data": {
      "image/png": "[encoded data removed]",
      "text/plain": [
       "<Figure size 640x480 with 1 Axes>"
      ]
     },
     "metadata": {},
     "output_type": "display_data"
    }
   ],
   "source": [
    "import pandas as pd\n",
    "import numpy as np\n",
    "import matplotlib.pyplot as plt\n",
    "\n",
    "filepath = 'https://raw.githubusercontent.com/JadenFaste/WCECVillaraEventHistogram/main/Test%20data.csv'\n",
    "data = pd.read_csv(filepath)\n",
    "\n",
    "# Convert \"Date\" column to datetime format\n",
    "data['Date'] = pd.to_datetime(data['Date'])\n",
    "\n",
    "# Create a new DataFrame as a copy of the original\n",
    "new_data = data.copy()\n",
    "\n",
    "column_name = \"EP_Total_HVAC_Power_W\"\n",
    "if column_name in new_data.columns:\n",
    "    column_exists = True\n",
    "    # Apply the condition: If Controller_Water_Heating_Mode is 0, set EP_Total_HVAC_Power_W to 0\n",
    "    new_data.loc[new_data['Controller_Water_Heating_Mode'] == 0, column_name] = 0\n",
    "else:\n",
    "    column_exists = False\n",
    "    columns = new_data.columns.tolist()\n",
    "\n",
    "new_data['Duration'] = new_data['Date'].shift(-1) - new_data['Date']\n",
    "new_data['Duration'] = new_data['Duration'].dt.total_seconds().div(60)  # Convert to minutes\n",
    "\n",
    "# Handle the initial NaN in Duration\n",
    "new_data['Duration'].fillna(0, inplace=True)\n",
    "\n",
    "# Initialize variables\n",
    "duration_sum = 0\n",
    "event_durations = []\n",
    "\n",
    "# Loop through the DataFrame\n",
    "for i in range(len(new_data) - 1):\n",
    "    # If the current value of EP_Total_HVAC_Power_W is non-zero\n",
    "    if new_data.loc[i, column_name] > 0:\n",
    "        # Add the duration to the sum\n",
    "        duration_sum += new_data.loc[i, 'Duration']\n",
    "        # If the next value of EP_Total_HVAC_Power_W is zero or it's the last data point\n",
    "        if new_data.loc[i + 1, column_name] == 0:\n",
    "            # Add the sum to the list and reset the sum\n",
    "            event_durations.append(duration_sum)\n",
    "            duration_sum = 0\n",
    "\n",
    "# Handle the last data point if it's part of an \"on\" event\n",
    "if new_data.loc[len(new_data) - 1, column_name] > 0:\n",
    "    duration_sum += new_data.loc[len(new_data) - 1, 'Duration']\n",
    "    event_durations.append(duration_sum)\n",
    "\n",
    "# Create a histogram\n",
    "plt.hist(event_durations, bins=range(0, int(max(event_durations)) + 5, 5))\n",
    "plt.xlabel('Event')\n",
    "plt.ylabel('Duration (minutes)')\n",
    "plt.title('Duration of Non-Zero Events')\n",
    "\n",
    "# Set the limits of the x-axis and y-axis\n",
    "plt.xlim([1, 3])  # replace xmin and xmax with the desired values\n",
    "plt.ylim([0, 5])  # replace ymin and ymax with the desired values\n",
    "\n",
    "plt.show()"
   ]
  }
 ],
 "metadata": {
  "kernelspec": {
   "display_name": "Python 3",
   "language": "python",
   "name": "python3"
  },
  "language_info": {
   "codemirror_mode": {
    "name": "ipython",
    "version": 3
   },
   "file_extension": ".py",
   "mimetype": "text/x-python",
   "name": "python",
   "nbconvert_exporter": "python",
   "pygments_lexer": "ipython3",
   "version": "3.10.11"
  }
 },
 "nbformat": 4,
 "nbformat_minor": 2
}
