{
 "cells": [
  {
   "cell_type": "markdown",
   "metadata": {},
   "source": [
    "STA 141B Project - A comparison of an NBA player's on court preformance against the expectations of their contract\n",
    "\n",
    "1. Introduction\n",
    "2. Data Acquisiton \n",
    "3. Data Process \n",
    "4. Approach\n",
    "5. Data Analysis \n",
    "5b. General statistics \n",
    "5c. Data Analysis real \n",
    "6. Reports + visualization\n",
    "7. Dicussion \n",
    "8. "
   ]
  },
  {
   "cell_type": "markdown",
   "metadata": {},
   "source": [
    "1. Introduction\n",
    "The National Basketball Association (NBA) is the premiere American basketball league comprised of 30 teams from the United States and Canada. The NBA is known for having lucrative contracts that costs tens of millions of dollars per year for top players. When signing these players onto these lucrative contracts, they are typically given more money when the player is expected to have a bigger impact onto the team's preformance. This study aims to analyze the relationship between NBA players' salaries and their performance metrics, identify patterns and anomalies, calculate a metric to determine players who are undervalued and overvalued, and assess the implications of these findings on team and the NBA's economics"
   ]
  },
  {
   "cell_type": "markdown",
   "metadata": {},
   "source": [
    "2. Data acquisiton\n",
    "To access the general statistics about certain players, we pulled from a public API package that pulls from the NBA website (https://github.com/swar/nba_api?tab=readme-ov-file), we will also webscrape information on team's salary cap online (https://www.spotrac.com/nba/cap/)"
   ]
  }
 ],
 "metadata": {
  "kernelspec": {
   "display_name": "Python 3",
   "language": "python",
   "name": "python3"
  },
  "language_info": {
   "codemirror_mode": {
    "name": "ipython",
    "version": 3
   },
   "file_extension": ".py",
   "mimetype": "text/x-python",
   "name": "python",
   "nbconvert_exporter": "python",
   "pygments_lexer": "ipython3",
   "version": "3.10.11"
  }
 },
 "nbformat": 4,
 "nbformat_minor": 2
}
